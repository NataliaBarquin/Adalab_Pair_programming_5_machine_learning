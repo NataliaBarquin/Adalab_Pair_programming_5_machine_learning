{
 "cells": [
  {
   "cell_type": "markdown",
   "metadata": {},
   "source": [
    "### PAIR 2. TEST ESTADÍSTICOS.\n",
    "\n",
    "\n",
    "----------------"
   ]
  },
  {
   "cell_type": "code",
   "execution_count": 1,
   "metadata": {},
   "outputs": [],
   "source": [
    "import pandas as pd\n",
    "import numpy as np\n",
    "\n",
    "import matplotlib.pyplot as plt\n",
    "import seaborn as sns\n",
    "\n",
    "from scipy.stats import skew\n",
    "from scipy.stats import kurtosistest\n",
    "from scipy import stats\n",
    "\n",
    "pd.options.display.max_columns = None"
   ]
  },
  {
   "cell_type": "code",
   "execution_count": 2,
   "metadata": {},
   "outputs": [
    {
     "data": {
      "text/html": [
       "<div>\n",
       "<style scoped>\n",
       "    .dataframe tbody tr th:only-of-type {\n",
       "        vertical-align: middle;\n",
       "    }\n",
       "\n",
       "    .dataframe tbody tr th {\n",
       "        vertical-align: top;\n",
       "    }\n",
       "\n",
       "    .dataframe thead th {\n",
       "        text-align: right;\n",
       "    }\n",
       "</style>\n",
       "<table border=\"1\" class=\"dataframe\">\n",
       "  <thead>\n",
       "    <tr style=\"text-align: right;\">\n",
       "      <th></th>\n",
       "      <th>invoice_id</th>\n",
       "      <th>city</th>\n",
       "      <th>customer_type</th>\n",
       "      <th>gender</th>\n",
       "      <th>product_line</th>\n",
       "      <th>unit_price</th>\n",
       "      <th>quantity</th>\n",
       "      <th>tax_5%</th>\n",
       "      <th>total</th>\n",
       "      <th>date</th>\n",
       "      <th>time</th>\n",
       "      <th>payment</th>\n",
       "      <th>cogs</th>\n",
       "      <th>gross_income</th>\n",
       "      <th>rating</th>\n",
       "    </tr>\n",
       "  </thead>\n",
       "  <tbody>\n",
       "    <tr>\n",
       "      <th>441</th>\n",
       "      <td>394-30-3170</td>\n",
       "      <td>Mandalay</td>\n",
       "      <td>Member</td>\n",
       "      <td>Female</td>\n",
       "      <td>Sports and travel</td>\n",
       "      <td>88.43</td>\n",
       "      <td>8</td>\n",
       "      <td>35.372</td>\n",
       "      <td>742.812</td>\n",
       "      <td>3/22/2019</td>\n",
       "      <td>19:35</td>\n",
       "      <td>Credit card</td>\n",
       "      <td>707.44</td>\n",
       "      <td>35.372</td>\n",
       "      <td>4.3</td>\n",
       "    </tr>\n",
       "    <tr>\n",
       "      <th>55</th>\n",
       "      <td>399-46-5918</td>\n",
       "      <td>Naypyitaw</td>\n",
       "      <td>Normal</td>\n",
       "      <td>Female</td>\n",
       "      <td>Electronic accessories</td>\n",
       "      <td>85.98</td>\n",
       "      <td>8</td>\n",
       "      <td>34.392</td>\n",
       "      <td>722.232</td>\n",
       "      <td>2/28/2019</td>\n",
       "      <td>19:01</td>\n",
       "      <td>Cash</td>\n",
       "      <td>687.84</td>\n",
       "      <td>34.392</td>\n",
       "      <td>8.2</td>\n",
       "    </tr>\n",
       "    <tr>\n",
       "      <th>552</th>\n",
       "      <td>210-57-1719</td>\n",
       "      <td>Mandalay</td>\n",
       "      <td>Normal</td>\n",
       "      <td>Female</td>\n",
       "      <td>Health and beauty</td>\n",
       "      <td>58.24</td>\n",
       "      <td>9</td>\n",
       "      <td>26.208</td>\n",
       "      <td>550.368</td>\n",
       "      <td>2/5/2019</td>\n",
       "      <td>12:34</td>\n",
       "      <td>Cash</td>\n",
       "      <td>524.16</td>\n",
       "      <td>26.208</td>\n",
       "      <td>9.7</td>\n",
       "    </tr>\n",
       "    <tr>\n",
       "      <th>390</th>\n",
       "      <td>541-89-9860</td>\n",
       "      <td>Naypyitaw</td>\n",
       "      <td>Member</td>\n",
       "      <td>Female</td>\n",
       "      <td>Fashion accessories</td>\n",
       "      <td>80.48</td>\n",
       "      <td>3</td>\n",
       "      <td>12.072</td>\n",
       "      <td>253.512</td>\n",
       "      <td>2/15/2019</td>\n",
       "      <td>12:31</td>\n",
       "      <td>Cash</td>\n",
       "      <td>241.44</td>\n",
       "      <td>12.072</td>\n",
       "      <td>8.1</td>\n",
       "    </tr>\n",
       "    <tr>\n",
       "      <th>832</th>\n",
       "      <td>343-75-9322</td>\n",
       "      <td>Mandalay</td>\n",
       "      <td>Member</td>\n",
       "      <td>Female</td>\n",
       "      <td>Sports and travel</td>\n",
       "      <td>11.85</td>\n",
       "      <td>8</td>\n",
       "      <td>4.740</td>\n",
       "      <td>99.540</td>\n",
       "      <td>1/9/2019</td>\n",
       "      <td>16:34</td>\n",
       "      <td>Cash</td>\n",
       "      <td>94.80</td>\n",
       "      <td>4.740</td>\n",
       "      <td>4.1</td>\n",
       "    </tr>\n",
       "  </tbody>\n",
       "</table>\n",
       "</div>"
      ],
      "text/plain": [
       "      invoice_id       city customer_type  gender            product_line  \\\n",
       "441  394-30-3170   Mandalay        Member  Female       Sports and travel   \n",
       "55   399-46-5918  Naypyitaw        Normal  Female  Electronic accessories   \n",
       "552  210-57-1719   Mandalay        Normal  Female       Health and beauty   \n",
       "390  541-89-9860  Naypyitaw        Member  Female     Fashion accessories   \n",
       "832  343-75-9322   Mandalay        Member  Female       Sports and travel   \n",
       "\n",
       "     unit_price  quantity  tax_5%    total       date   time      payment  \\\n",
       "441       88.43         8  35.372  742.812  3/22/2019  19:35  Credit card   \n",
       "55        85.98         8  34.392  722.232  2/28/2019  19:01         Cash   \n",
       "552       58.24         9  26.208  550.368   2/5/2019  12:34         Cash   \n",
       "390       80.48         3  12.072  253.512  2/15/2019  12:31         Cash   \n",
       "832       11.85         8   4.740   99.540   1/9/2019  16:34         Cash   \n",
       "\n",
       "       cogs  gross_income  rating  \n",
       "441  707.44        35.372     4.3  \n",
       "55   687.84        34.392     8.2  \n",
       "552  524.16        26.208     9.7  \n",
       "390  241.44        12.072     8.1  \n",
       "832   94.80         4.740     4.1  "
      ]
     },
     "execution_count": 2,
     "metadata": {},
     "output_type": "execute_result"
    }
   ],
   "source": [
    "df = pd.read_csv('data/supermarket_1.csv', index_col= 0)\n",
    "df.sample(5)"
   ]
  },
  {
   "cell_type": "markdown",
   "metadata": {},
   "source": [
    "1. ¿Qué diferencia existe el error de tipo I y el error de tipo II?"
   ]
  },
  {
   "cell_type": "markdown",
   "metadata": {},
   "source": [
    "H0: La variable A NO afecta a la variable B.\n",
    "\n",
    "H1: La variable A afecta a la variable B.\n",
    "\n",
    "- Error tipo 1: Falso positivo.\n",
    "- Error tipo 2: Falso negativo.\n",
    "\n",
    "En nuestro caso: \n",
    "\n",
    "- Predicción general: ¿Cuánto dinero se gastará un nuevo cliente en una compra?\n",
    "\n",
    "H0: Que la línea de producto NO afecta al total de la factura \n",
    "\n",
    "H1: Que la línea de producto SÍ afecta al total de la factura\n",
    "\n",
    "- Error tipo 1: Falso positivo. Si la empresa tiene venta más agresiva, preferiríamos este\n",
    "- Error tipo 2: Falso negativo. Preferimos este error en este caso que la empresa sea cauta (que salga que NO influye aunque SÍ influya), porque si fuera al contrario invertiríamos dinero en una campaña que no es cierta."
   ]
  },
  {
   "cell_type": "markdown",
   "metadata": {},
   "source": [
    "2. ¿Qué es la asimetría?"
   ]
  },
  {
   "cell_type": "markdown",
   "metadata": {},
   "source": [
    "Quiere decir que la media es mayor o menor a la mediana y a la moda."
   ]
  },
  {
   "cell_type": "markdown",
   "metadata": {},
   "source": [
    "3. ¿Es vuestra variable respuesta asimétrica?"
   ]
  },
  {
   "cell_type": "code",
   "execution_count": 3,
   "metadata": {},
   "outputs": [
    {
     "data": {
      "text/plain": [
       "<seaborn.axisgrid.FacetGrid at 0x7f1b08d19760>"
      ]
     },
     "execution_count": 3,
     "metadata": {},
     "output_type": "execute_result"
    },
    {
     "data": {
      "image/png": "[encoded data removed]",
      "text/plain": [
       "<Figure size 360x360 with 1 Axes>"
      ]
     },
     "metadata": {
      "needs_background": "light"
     },
     "output_type": "display_data"
    }
   ],
   "source": [
    "sns.displot(x =\"total\", data = df,color = \"salmon\")"
   ]
  },
  {
   "cell_type": "code",
   "execution_count": 4,
   "metadata": {},
   "outputs": [
    {
     "name": "stderr",
     "output_type": "stream",
     "text": [
      "/tmp/ipykernel_22446/852055623.py:1: UserWarning: \n",
      "\n",
      "`distplot` is a deprecated function and will be removed in seaborn v0.14.0.\n",
      "\n",
      "Please adapt your code to use either `displot` (a figure-level function with\n",
      "similar flexibility) or `kdeplot` (an axes-level function for kernel density plots).\n",
      "\n",
      "For a guide to updating your code to use the new functions, please see\n",
      "https://gist.github.com/mwaskom/de44147ed2974457ad6372750bbe5751\n",
      "\n",
      "  sns.distplot( df[\"total\"], hist = False, color = \"red\", kde_kws = {\"shade\": True, \"linewidth\": 1});\n",
      "/home/ana/anaconda3/lib/python3.9/site-packages/seaborn/distributions.py:2511: FutureWarning: \n",
      "\n",
      "`shade` is now deprecated in favor of `fill`; setting `fill=True`.\n",
      "This will become an error in seaborn v0.14.0; please update your code.\n",
      "\n",
      "  kdeplot(**{axis: a}, ax=ax, color=kde_color, **kde_kws)\n"
     ]
    },
    {
     "data": {
      "image/png": "[encoded data removed]",
      "text/plain": [
       "<Figure size 432x288 with 1 Axes>"
      ]
     },
     "metadata": {
      "needs_background": "light"
     },
     "output_type": "display_data"
    }
   ],
   "source": [
    "sns.distplot( df[\"total\"], hist = False, color = \"red\", kde_kws = {\"shade\": True, \"linewidth\": 1});"
   ]
  },
  {
   "cell_type": "code",
   "execution_count": 5,
   "metadata": {},
   "outputs": [
    {
     "data": {
      "text/plain": [
       "0.8925698049581418"
      ]
     },
     "execution_count": 5,
     "metadata": {},
     "output_type": "execute_result"
    }
   ],
   "source": [
    "df[\"total\"].skew()"
   ]
  },
  {
   "cell_type": "markdown",
   "metadata": {},
   "source": [
    "Nuestra variable respuesta es asimétrica positiva puesto que está más cerca del 1 que del 0. Todo lo que se aleje de cero indica que los datos no son simétricos"
   ]
  },
  {
   "cell_type": "markdown",
   "metadata": {},
   "source": [
    "4. ¿Qué tipo de curtosis presenta vuestra variable respuesta?"
   ]
  },
  {
   "cell_type": "code",
   "execution_count": 6,
   "metadata": {},
   "outputs": [
    {
     "data": {
      "text/plain": [
       "KurtosistestResult(statistic=-0.48186722495859124, pvalue=0.6299002701998482)"
      ]
     },
     "execution_count": 6,
     "metadata": {},
     "output_type": "execute_result"
    }
   ],
   "source": [
    "kurtosistest(df[\"total\"])"
   ]
  },
  {
   "cell_type": "markdown",
   "metadata": {},
   "source": [
    "Leptocurtosis ya que el valor es mayor a 0"
   ]
  },
  {
   "cell_type": "markdown",
   "metadata": {},
   "source": [
    "5. ¿Es vuestra variable respuesta normal? Demostrarlo visual y analíticamente."
   ]
  },
  {
   "cell_type": "code",
   "execution_count": 7,
   "metadata": {},
   "outputs": [
    {
     "data": {
      "image/png": "[encoded data removed]",
      "text/plain": [
       "<Figure size 360x360 with 1 Axes>"
      ]
     },
     "metadata": {
      "needs_background": "light"
     },
     "output_type": "display_data"
    }
   ],
   "source": [
    "sns.displot(df[\"total\"], kde = True, color = \"lightsalmon\", bins= 10);"
   ]
  },
  {
   "cell_type": "code",
   "execution_count": 8,
   "metadata": {},
   "outputs": [
    {
     "data": {
      "text/plain": [
       "ShapiroResult(statistic=0.9087592959403992, pvalue=5.303152934088987e-24)"
      ]
     },
     "execution_count": 8,
     "metadata": {},
     "output_type": "execute_result"
    }
   ],
   "source": [
    "stats.shapiro(df[\"total\"])"
   ]
  },
  {
   "cell_type": "markdown",
   "metadata": {},
   "source": [
    "Según el test shapiro (porque tenemos menos de 5000 registros) podemos descartar la hipotesis 0 por lo que los datos no son normales. Además, no se observa la campana de Gauss en la gráfica."
   ]
  }
 ],
 "metadata": {
  "kernelspec": {
   "display_name": "adalabenv",
   "language": "python",
   "name": "python3"
  },
  "language_info": {
   "codemirror_mode": {
    "name": "ipython",
    "version": 3
   },
   "file_extension": ".py",
   "mimetype": "text/x-python",
   "name": "python",
   "nbconvert_exporter": "python",
   "pygments_lexer": "ipython3",
   "version": "3.9.7"
  },
  "orig_nbformat": 4
 },
 "nbformat": 4,
 "nbformat_minor": 2
}
