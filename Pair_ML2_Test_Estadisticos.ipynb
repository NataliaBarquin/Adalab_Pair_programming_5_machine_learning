{
 "cells": [
  {
   "cell_type": "markdown",
   "metadata": {},
   "source": [
    "### PAIR 2. TEST ESTADÍSTICOS.\n",
    "\n",
    "\n",
    "----------------"
   ]
  },
  {
   "cell_type": "code",
   "execution_count": 1,
   "metadata": {},
   "outputs": [],
   "source": [
    "import pandas as pd\n",
    "import numpy as np\n",
    "\n",
    "import matplotlib.pyplot as plt\n",
    "import seaborn as sns\n",
    "\n",
    "from scipy.stats import skew\n",
    "from scipy.stats import kurtosistest\n",
    "from scipy import stats\n",
    "\n",
    "pd.options.display.max_columns = None"
   ]
  },
  {
   "cell_type": "code",
   "execution_count": 2,
   "metadata": {},
   "outputs": [
    {
     "data": {
      "text/html": [
       "<div>\n",
       "<style scoped>\n",
       "    .dataframe tbody tr th:only-of-type {\n",
       "        vertical-align: middle;\n",
       "    }\n",
       "\n",
       "    .dataframe tbody tr th {\n",
       "        vertical-align: top;\n",
       "    }\n",
       "\n",
       "    .dataframe thead th {\n",
       "        text-align: right;\n",
       "    }\n",
       "</style>\n",
       "<table border=\"1\" class=\"dataframe\">\n",
       "  <thead>\n",
       "    <tr style=\"text-align: right;\">\n",
       "      <th></th>\n",
       "      <th>invoice_id</th>\n",
       "      <th>city</th>\n",
       "      <th>customer_type</th>\n",
       "      <th>gender</th>\n",
       "      <th>product_line</th>\n",
       "      <th>unit_price</th>\n",
       "      <th>quantity</th>\n",
       "      <th>tax_5%</th>\n",
       "      <th>total</th>\n",
       "      <th>date</th>\n",
       "      <th>time</th>\n",
       "      <th>payment</th>\n",
       "      <th>cogs</th>\n",
       "      <th>gross_income</th>\n",
       "      <th>rating</th>\n",
       "    </tr>\n",
       "  </thead>\n",
       "  <tbody>\n",
       "    <tr>\n",
       "      <th>979</th>\n",
       "      <td>151-33-7434</td>\n",
       "      <td>Mandalay</td>\n",
       "      <td>Normal</td>\n",
       "      <td>Female</td>\n",
       "      <td>Food and beverages</td>\n",
       "      <td>67.77</td>\n",
       "      <td>1</td>\n",
       "      <td>3.3885</td>\n",
       "      <td>71.1585</td>\n",
       "      <td>2/4/2019</td>\n",
       "      <td>20:43</td>\n",
       "      <td>Credit card</td>\n",
       "      <td>67.77</td>\n",
       "      <td>3.3885</td>\n",
       "      <td>6.5</td>\n",
       "    </tr>\n",
       "    <tr>\n",
       "      <th>82</th>\n",
       "      <td>480-63-2856</td>\n",
       "      <td>Naypyitaw</td>\n",
       "      <td>Normal</td>\n",
       "      <td>Male</td>\n",
       "      <td>Food and beverages</td>\n",
       "      <td>19.25</td>\n",
       "      <td>8</td>\n",
       "      <td>7.7000</td>\n",
       "      <td>161.7000</td>\n",
       "      <td>1/23/2019</td>\n",
       "      <td>18:37</td>\n",
       "      <td>Ewallet</td>\n",
       "      <td>154.00</td>\n",
       "      <td>7.7000</td>\n",
       "      <td>6.6</td>\n",
       "    </tr>\n",
       "    <tr>\n",
       "      <th>931</th>\n",
       "      <td>756-93-1854</td>\n",
       "      <td>Naypyitaw</td>\n",
       "      <td>Member</td>\n",
       "      <td>Female</td>\n",
       "      <td>Fashion accessories</td>\n",
       "      <td>83.35</td>\n",
       "      <td>2</td>\n",
       "      <td>8.3350</td>\n",
       "      <td>175.0350</td>\n",
       "      <td>2/2/2019</td>\n",
       "      <td>14:05</td>\n",
       "      <td>Credit card</td>\n",
       "      <td>166.70</td>\n",
       "      <td>8.3350</td>\n",
       "      <td>9.5</td>\n",
       "    </tr>\n",
       "    <tr>\n",
       "      <th>532</th>\n",
       "      <td>857-67-9057</td>\n",
       "      <td>Mandalay</td>\n",
       "      <td>Normal</td>\n",
       "      <td>Male</td>\n",
       "      <td>Electronic accessories</td>\n",
       "      <td>22.95</td>\n",
       "      <td>10</td>\n",
       "      <td>11.4750</td>\n",
       "      <td>240.9750</td>\n",
       "      <td>2/6/2019</td>\n",
       "      <td>19:20</td>\n",
       "      <td>Ewallet</td>\n",
       "      <td>229.50</td>\n",
       "      <td>11.4750</td>\n",
       "      <td>8.2</td>\n",
       "    </tr>\n",
       "    <tr>\n",
       "      <th>643</th>\n",
       "      <td>131-15-8856</td>\n",
       "      <td>Naypyitaw</td>\n",
       "      <td>Member</td>\n",
       "      <td>Female</td>\n",
       "      <td>Food and beverages</td>\n",
       "      <td>72.52</td>\n",
       "      <td>8</td>\n",
       "      <td>29.0080</td>\n",
       "      <td>609.1680</td>\n",
       "      <td>3/30/2019</td>\n",
       "      <td>19:26</td>\n",
       "      <td>Credit card</td>\n",
       "      <td>580.16</td>\n",
       "      <td>29.0080</td>\n",
       "      <td>4.0</td>\n",
       "    </tr>\n",
       "  </tbody>\n",
       "</table>\n",
       "</div>"
      ],
      "text/plain": [
       "      invoice_id       city customer_type  gender            product_line  \\\n",
       "979  151-33-7434   Mandalay        Normal  Female      Food and beverages   \n",
       "82   480-63-2856  Naypyitaw        Normal    Male      Food and beverages   \n",
       "931  756-93-1854  Naypyitaw        Member  Female     Fashion accessories   \n",
       "532  857-67-9057   Mandalay        Normal    Male  Electronic accessories   \n",
       "643  131-15-8856  Naypyitaw        Member  Female      Food and beverages   \n",
       "\n",
       "     unit_price  quantity   tax_5%     total       date   time      payment  \\\n",
       "979       67.77         1   3.3885   71.1585   2/4/2019  20:43  Credit card   \n",
       "82        19.25         8   7.7000  161.7000  1/23/2019  18:37      Ewallet   \n",
       "931       83.35         2   8.3350  175.0350   2/2/2019  14:05  Credit card   \n",
       "532       22.95        10  11.4750  240.9750   2/6/2019  19:20      Ewallet   \n",
       "643       72.52         8  29.0080  609.1680  3/30/2019  19:26  Credit card   \n",
       "\n",
       "       cogs  gross_income  rating  \n",
       "979   67.77        3.3885     6.5  \n",
       "82   154.00        7.7000     6.6  \n",
       "931  166.70        8.3350     9.5  \n",
       "532  229.50       11.4750     8.2  \n",
       "643  580.16       29.0080     4.0  "
      ]
     },
     "execution_count": 2,
     "metadata": {},
     "output_type": "execute_result"
    }
   ],
   "source": [
    "df = pd.read_csv('data/supermarket_1.csv', index_col= 0)\n",
    "df.sample(5)"
   ]
  },
  {
   "cell_type": "markdown",
   "metadata": {},
   "source": [
    "1. ¿Qué diferencia existe el error de tipo I y el error de tipo II?"
   ]
  },
  {
   "cell_type": "markdown",
   "metadata": {},
   "source": [
    "H0: La variable A NO afecta a la variable B.\n",
    "\n",
    "H1: La variable A afecta a la variable B.\n",
    "\n",
    "- Error tipo 1: Falso positivo.\n",
    "- Error tipo 2: Falso negativo.\n",
    "\n",
    "En nuestro caso: \n",
    "\n",
    "- Predicción general: ¿Cuánto dinero se gastará un nuevo cliente en una compra?\n",
    "\n",
    "H0: Que la línea de producto NO afecta a la cantidad de productos que compran\n",
    "\n",
    "H1: Que la línea de producto SÍ afecta a la cantidad de productos que compran\n",
    "\n",
    "- Error tipo 1: Falso positivo. Si la empresa tiene venta más agresiva, preferiríamos este\n",
    "- Error tipo 2: Falso negativo. Preferimos este error en este caso que la empresa sea cauta (que salga que NO influye aunque SÍ influya), porque si fuera al contrario invertiríamos dinero en una campaña que no es cierta."
   ]
  },
  {
   "cell_type": "markdown",
   "metadata": {},
   "source": [
    "2. ¿Qué es la asimetría?"
   ]
  },
  {
   "cell_type": "markdown",
   "metadata": {},
   "source": [
    "Quiere decir que la media es mayor o menor a la mediana y a la moda."
   ]
  },
  {
   "cell_type": "markdown",
   "metadata": {},
   "source": [
    "3. ¿Es vuestra variable respuesta asimétrica?"
   ]
  },
  {
   "cell_type": "code",
   "execution_count": 3,
   "metadata": {},
   "outputs": [
    {
     "data": {
      "text/plain": [
       "array([ 7,  5,  8,  6, 10,  2,  3,  4,  1,  9])"
      ]
     },
     "execution_count": 3,
     "metadata": {},
     "output_type": "execute_result"
    }
   ],
   "source": [
    "df[\"quantity\"]. unique()"
   ]
  },
  {
   "cell_type": "code",
   "execution_count": 4,
   "metadata": {},
   "outputs": [
    {
     "data": {
      "text/plain": [
       "quantity\n",
       "10    119\n",
       "1     112\n",
       "4     109\n",
       "7     102\n",
       "5     102\n",
       "6      98\n",
       "9      92\n",
       "2      91\n",
       "3      90\n",
       "8      85\n",
       "Name: count, dtype: int64"
      ]
     },
     "execution_count": 4,
     "metadata": {},
     "output_type": "execute_result"
    }
   ],
   "source": [
    "df[\"quantity\"].value_counts()"
   ]
  },
  {
   "cell_type": "code",
   "execution_count": 5,
   "metadata": {},
   "outputs": [
    {
     "data": {
      "text/plain": [
       "0.012941048017172435"
      ]
     },
     "execution_count": 5,
     "metadata": {},
     "output_type": "execute_result"
    }
   ],
   "source": [
    "df[\"quantity\"].skew()"
   ]
  },
  {
   "cell_type": "markdown",
   "metadata": {},
   "source": [
    "Los datos tienen una asimetría positiva, la media es mayor a la mediana y a la moda por lo que no son simétricos"
   ]
  },
  {
   "cell_type": "markdown",
   "metadata": {},
   "source": [
    "4. ¿Qué tipo de curtosis presenta vuestra variable respuesta?"
   ]
  },
  {
   "cell_type": "code",
   "execution_count": 6,
   "metadata": {},
   "outputs": [
    {
     "data": {
      "text/plain": [
       "KurtosistestResult(statistic=-28.897670963199943, pvalue=1.2771514669146152e-183)"
      ]
     },
     "execution_count": 6,
     "metadata": {},
     "output_type": "execute_result"
    }
   ],
   "source": [
    "kurtosistest(df[\"quantity\"])"
   ]
  },
  {
   "cell_type": "markdown",
   "metadata": {},
   "source": [
    "Mesocurtosis porque es casi igual a 0"
   ]
  },
  {
   "cell_type": "markdown",
   "metadata": {},
   "source": [
    "5. ¿Es vuestra variable respuesta normal? Demostrarlo visual y analíticamente."
   ]
  },
  {
   "cell_type": "code",
   "execution_count": 7,
   "metadata": {},
   "outputs": [
    {
     "name": "stderr",
     "output_type": "stream",
     "text": [
      "/home/natalia/anaconda3/envs/adalabenv/lib/python3.10/site-packages/seaborn/axisgrid.py:118: UserWarning: The figure layout has changed to tight\n",
      "  self._figure.tight_layout(*args, **kwargs)\n"
     ]
    },
    {
     "data": {
      "image/png": "[encoded data removed]",
      "text/plain": [
       "<Figure size 500x500 with 1 Axes>"
      ]
     },
     "metadata": {},
     "output_type": "display_data"
    }
   ],
   "source": [
    "sns.displot(df[\"quantity\"], kde = True, color = \"lightsalmon\", bins= 10);"
   ]
  },
  {
   "cell_type": "code",
   "execution_count": 8,
   "metadata": {},
   "outputs": [
    {
     "data": {
      "text/plain": [
       "ShapiroResult(statistic=0.9325783848762512, pvalue=7.962700685964001e-21)"
      ]
     },
     "execution_count": 8,
     "metadata": {},
     "output_type": "execute_result"
    }
   ],
   "source": [
    "stats.shapiro(df[\"quantity\"])"
   ]
  },
  {
   "cell_type": "markdown",
   "metadata": {},
   "source": [
    "Según el test shapiro (porque tenemos menos de 5000 registros) podemos descartar la hipotesis 0 por lo que los datos no son normales. Además, no se observa la campana de Gauss en la gráfica."
   ]
  }
 ],
 "metadata": {
  "kernelspec": {
   "display_name": "adalabenv",
   "language": "python",
   "name": "python3"
  },
  "language_info": {
   "codemirror_mode": {
    "name": "ipython",
    "version": 3
   },
   "file_extension": ".py",
   "mimetype": "text/x-python",
   "name": "python",
   "nbconvert_exporter": "python",
   "pygments_lexer": "ipython3",
   "version": "3.10.11"
  },
  "orig_nbformat": 4
 },
 "nbformat": 4,
 "nbformat_minor": 2
}
