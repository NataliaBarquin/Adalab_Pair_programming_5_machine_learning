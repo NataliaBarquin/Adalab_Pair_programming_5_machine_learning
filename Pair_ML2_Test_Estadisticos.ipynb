{
 "cells": [
  {
   "cell_type": "markdown",
   "metadata": {},
   "source": [
    "### PAIR 2. TEST ESTADÍSTICOS.\n",
    "\n",
    "\n",
    "----------------"
   ]
  },
  {
   "cell_type": "code",
   "execution_count": 19,
   "metadata": {},
   "outputs": [],
   "source": [
    "import pandas as pd\n",
    "import numpy as np\n",
    "\n",
    "import matplotlib.pyplot as plt\n",
    "import seaborn as sns\n",
    "\n",
    "from scipy.stats import skew\n",
    "from scipy.stats import kurtosistest\n",
    "from scipy import stats\n",
    "\n",
    "pd.options.display.max_columns = None"
   ]
  },
  {
   "cell_type": "code",
   "execution_count": 6,
   "metadata": {},
   "outputs": [
    {
     "data": {
      "text/html": [
       "<div>\n",
       "<style scoped>\n",
       "    .dataframe tbody tr th:only-of-type {\n",
       "        vertical-align: middle;\n",
       "    }\n",
       "\n",
       "    .dataframe tbody tr th {\n",
       "        vertical-align: top;\n",
       "    }\n",
       "\n",
       "    .dataframe thead th {\n",
       "        text-align: right;\n",
       "    }\n",
       "</style>\n",
       "<table border=\"1\" class=\"dataframe\">\n",
       "  <thead>\n",
       "    <tr style=\"text-align: right;\">\n",
       "      <th></th>\n",
       "      <th>invoice_id</th>\n",
       "      <th>branch</th>\n",
       "      <th>city</th>\n",
       "      <th>customer_type</th>\n",
       "      <th>gender</th>\n",
       "      <th>product_line</th>\n",
       "      <th>unit_price</th>\n",
       "      <th>quantity</th>\n",
       "      <th>tax_5%</th>\n",
       "      <th>total</th>\n",
       "      <th>date</th>\n",
       "      <th>time</th>\n",
       "      <th>payment</th>\n",
       "      <th>cogs</th>\n",
       "      <th>gross_income</th>\n",
       "      <th>rating</th>\n",
       "    </tr>\n",
       "  </thead>\n",
       "  <tbody>\n",
       "    <tr>\n",
       "      <th>410</th>\n",
       "      <td>244-08-0162</td>\n",
       "      <td>B</td>\n",
       "      <td>Mandalay</td>\n",
       "      <td>Normal</td>\n",
       "      <td>Female</td>\n",
       "      <td>Health and beauty</td>\n",
       "      <td>34.21</td>\n",
       "      <td>10</td>\n",
       "      <td>17.1050</td>\n",
       "      <td>359.2050</td>\n",
       "      <td>1/2/2019</td>\n",
       "      <td>13:00</td>\n",
       "      <td>Cash</td>\n",
       "      <td>342.10</td>\n",
       "      <td>17.1050</td>\n",
       "      <td>5.1</td>\n",
       "    </tr>\n",
       "    <tr>\n",
       "      <th>757</th>\n",
       "      <td>406-46-7107</td>\n",
       "      <td>A</td>\n",
       "      <td>Yangon</td>\n",
       "      <td>Normal</td>\n",
       "      <td>Female</td>\n",
       "      <td>Home and lifestyle</td>\n",
       "      <td>96.52</td>\n",
       "      <td>6</td>\n",
       "      <td>28.9560</td>\n",
       "      <td>608.0760</td>\n",
       "      <td>1/11/2019</td>\n",
       "      <td>11:52</td>\n",
       "      <td>Cash</td>\n",
       "      <td>579.12</td>\n",
       "      <td>28.9560</td>\n",
       "      <td>4.5</td>\n",
       "    </tr>\n",
       "    <tr>\n",
       "      <th>872</th>\n",
       "      <td>544-55-9589</td>\n",
       "      <td>B</td>\n",
       "      <td>Mandalay</td>\n",
       "      <td>Member</td>\n",
       "      <td>Female</td>\n",
       "      <td>Electronic accessories</td>\n",
       "      <td>21.43</td>\n",
       "      <td>10</td>\n",
       "      <td>10.7150</td>\n",
       "      <td>225.0150</td>\n",
       "      <td>1/28/2019</td>\n",
       "      <td>11:51</td>\n",
       "      <td>Cash</td>\n",
       "      <td>214.30</td>\n",
       "      <td>10.7150</td>\n",
       "      <td>6.2</td>\n",
       "    </tr>\n",
       "    <tr>\n",
       "      <th>703</th>\n",
       "      <td>729-06-2010</td>\n",
       "      <td>B</td>\n",
       "      <td>Mandalay</td>\n",
       "      <td>Member</td>\n",
       "      <td>Male</td>\n",
       "      <td>Health and beauty</td>\n",
       "      <td>80.47</td>\n",
       "      <td>9</td>\n",
       "      <td>36.2115</td>\n",
       "      <td>760.4415</td>\n",
       "      <td>1/6/2019</td>\n",
       "      <td>11:18</td>\n",
       "      <td>Cash</td>\n",
       "      <td>724.23</td>\n",
       "      <td>36.2115</td>\n",
       "      <td>9.2</td>\n",
       "    </tr>\n",
       "    <tr>\n",
       "      <th>449</th>\n",
       "      <td>449-27-2918</td>\n",
       "      <td>B</td>\n",
       "      <td>Mandalay</td>\n",
       "      <td>Member</td>\n",
       "      <td>Female</td>\n",
       "      <td>Sports and travel</td>\n",
       "      <td>39.12</td>\n",
       "      <td>1</td>\n",
       "      <td>1.9560</td>\n",
       "      <td>41.0760</td>\n",
       "      <td>3/26/2019</td>\n",
       "      <td>11:02</td>\n",
       "      <td>Credit card</td>\n",
       "      <td>39.12</td>\n",
       "      <td>1.9560</td>\n",
       "      <td>9.6</td>\n",
       "    </tr>\n",
       "  </tbody>\n",
       "</table>\n",
       "</div>"
      ],
      "text/plain": [
       "      invoice_id branch      city customer_type  gender  \\\n",
       "410  244-08-0162      B  Mandalay        Normal  Female   \n",
       "757  406-46-7107      A    Yangon        Normal  Female   \n",
       "872  544-55-9589      B  Mandalay        Member  Female   \n",
       "703  729-06-2010      B  Mandalay        Member    Male   \n",
       "449  449-27-2918      B  Mandalay        Member  Female   \n",
       "\n",
       "               product_line  unit_price  quantity   tax_5%     total  \\\n",
       "410       Health and beauty       34.21        10  17.1050  359.2050   \n",
       "757      Home and lifestyle       96.52         6  28.9560  608.0760   \n",
       "872  Electronic accessories       21.43        10  10.7150  225.0150   \n",
       "703       Health and beauty       80.47         9  36.2115  760.4415   \n",
       "449       Sports and travel       39.12         1   1.9560   41.0760   \n",
       "\n",
       "          date   time      payment    cogs  gross_income  rating  \n",
       "410   1/2/2019  13:00         Cash  342.10       17.1050     5.1  \n",
       "757  1/11/2019  11:52         Cash  579.12       28.9560     4.5  \n",
       "872  1/28/2019  11:51         Cash  214.30       10.7150     6.2  \n",
       "703   1/6/2019  11:18         Cash  724.23       36.2115     9.2  \n",
       "449  3/26/2019  11:02  Credit card   39.12        1.9560     9.6  "
      ]
     },
     "execution_count": 6,
     "metadata": {},
     "output_type": "execute_result"
    }
   ],
   "source": [
    "df = pd.read_csv('data/supermarket_1.csv', index_col= 0)\n",
    "df.sample(5)"
   ]
  },
  {
   "cell_type": "markdown",
   "metadata": {},
   "source": [
    "1. ¿Qué diferencia existe el error de tipo I y el error de tipo II?"
   ]
  },
  {
   "cell_type": "markdown",
   "metadata": {},
   "source": [
    "H0: La variable A NO afecta a la variable B.\n",
    "\n",
    "H1: La variable A afecta a la variable B.\n",
    "\n",
    "- Error tipo 1: Falso positivo.\n",
    "- Error tipo 2: Falso negativo.\n",
    "\n",
    "En nuestro caso: \n",
    "\n",
    "- Predicción general: ¿Cuánto dinero se gastará un nuevo cliente en una compra?\n",
    "\n",
    "H0: Que la línea de producto NO afecta a la cantidad de productos que compran\n",
    "\n",
    "H1: Que la línea de producto SÍ afecta a la cantidad de productos que compran\n",
    "\n",
    "- Error tipo 1: Falso positivo. Si la empresa tiene venta más agresiva, preferiríamos este\n",
    "- Error tipo 2: Falso negativo. Preferimos este error en este caso que la empresa sea cauta (que salga que NO influye aunque SÍ influya), porque si fuera al contrario invertiríamos dinero en una campaña que no es cierta."
   ]
  },
  {
   "cell_type": "markdown",
   "metadata": {},
   "source": [
    "2. ¿Qué es la asimetría?"
   ]
  },
  {
   "cell_type": "markdown",
   "metadata": {},
   "source": [
    "Quiere decir que la media es mayor o menor a la mediana y a la moda."
   ]
  },
  {
   "cell_type": "markdown",
   "metadata": {},
   "source": [
    "3. ¿Es vuestra variable respuesta asimétrica?"
   ]
  },
  {
   "cell_type": "code",
   "execution_count": 12,
   "metadata": {},
   "outputs": [
    {
     "data": {
      "text/plain": [
       "array([ 7,  5,  8,  6, 10,  2,  3,  4,  1,  9])"
      ]
     },
     "execution_count": 12,
     "metadata": {},
     "output_type": "execute_result"
    }
   ],
   "source": [
    "df[\"quantity\"]. unique()"
   ]
  },
  {
   "cell_type": "code",
   "execution_count": 13,
   "metadata": {},
   "outputs": [
    {
     "data": {
      "text/plain": [
       "quantity\n",
       "10    119\n",
       "1     112\n",
       "4     109\n",
       "7     102\n",
       "5     102\n",
       "6      98\n",
       "9      92\n",
       "2      91\n",
       "3      90\n",
       "8      85\n",
       "Name: count, dtype: int64"
      ]
     },
     "execution_count": 13,
     "metadata": {},
     "output_type": "execute_result"
    }
   ],
   "source": [
    "df[\"quantity\"].value_counts()"
   ]
  },
  {
   "cell_type": "code",
   "execution_count": 15,
   "metadata": {},
   "outputs": [
    {
     "data": {
      "text/plain": [
       "0.012941048017172435"
      ]
     },
     "execution_count": 15,
     "metadata": {},
     "output_type": "execute_result"
    }
   ],
   "source": [
    "df[\"quantity\"].skew()"
   ]
  },
  {
   "cell_type": "markdown",
   "metadata": {},
   "source": [
    "Los datos tienen una asimetría positiva, la media es mayor a la mediana y a la moda por lo que no son simétricos"
   ]
  },
  {
   "cell_type": "markdown",
   "metadata": {},
   "source": [
    "4. ¿Qué tipo de curtosis presenta vuestra variable respuesta?"
   ]
  },
  {
   "cell_type": "code",
   "execution_count": 17,
   "metadata": {},
   "outputs": [
    {
     "data": {
      "text/plain": [
       "KurtosistestResult(statistic=-28.897670963199943, pvalue=1.2771514669146152e-183)"
      ]
     },
     "execution_count": 17,
     "metadata": {},
     "output_type": "execute_result"
    }
   ],
   "source": [
    "kurtosistest(df[\"quantity\"])"
   ]
  },
  {
   "cell_type": "markdown",
   "metadata": {},
   "source": [
    "Mesocurtosis porque es casi igual a 0"
   ]
  },
  {
   "cell_type": "markdown",
   "metadata": {},
   "source": [
    "5. ¿Es vuestra variable respuesta normal? Demostrarlo visual y analíticamente."
   ]
  },
  {
   "cell_type": "code",
   "execution_count": 27,
   "metadata": {},
   "outputs": [
    {
     "data": {
      "image/png": "[encoded data removed]",
      "text/plain": [
       "<Figure size 360x360 with 1 Axes>"
      ]
     },
     "metadata": {
      "needs_background": "light"
     },
     "output_type": "display_data"
    }
   ],
   "source": [
    "sns.displot(df[\"quantity\"], kde = True, color = \"lightsalmon\", bins= 10);"
   ]
  },
  {
   "cell_type": "code",
   "execution_count": 20,
   "metadata": {},
   "outputs": [
    {
     "data": {
      "text/plain": [
       "ShapiroResult(statistic=0.9325848817825317, pvalue=7.980551308206381e-21)"
      ]
     },
     "execution_count": 20,
     "metadata": {},
     "output_type": "execute_result"
    }
   ],
   "source": [
    "stats.shapiro(df[\"quantity\"])"
   ]
  },
  {
   "cell_type": "markdown",
   "metadata": {},
   "source": [
    "Según el test shapiro (porque tenemos menos de 5000 registros) podemos descartar la hipotesis 0 por lo que los datos no son normales. Además, no se observa la campana de Gauss en la gráfica."
   ]
  }
 ],
 "metadata": {
  "kernelspec": {
   "display_name": "adalabenv",
   "language": "python",
   "name": "python3"
  },
  "language_info": {
   "codemirror_mode": {
    "name": "ipython",
    "version": 3
   },
   "file_extension": ".py",
   "mimetype": "text/x-python",
   "name": "python",
   "nbconvert_exporter": "python",
   "pygments_lexer": "ipython3",
   "version": "3.9.7"
  },
  "orig_nbformat": 4
 },
 "nbformat": 4,
 "nbformat_minor": 2
}
