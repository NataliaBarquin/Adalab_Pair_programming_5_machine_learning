{
 "cells": [
  {
   "cell_type": "code",
   "execution_count": 10,
   "metadata": {},
   "outputs": [],
   "source": [
    "import pandas as pd\n",
    "\n",
    "from sklearn.preprocessing import RobustScaler\n",
    "\n",
    "import warnings\n",
    "warnings.filterwarnings('ignore')\n",
    "\n",
    "pd.options.display.max_columns = None "
   ]
  },
  {
   "cell_type": "markdown",
   "metadata": {},
   "source": [
    "En este ejercicio de pair programming seguiréis usando el dataset que seleccionasteis.\n",
    "\n",
    "En vuestro dataset habréis identificado unas variables predictoras y una variable respuesta. \n",
    "\n",
    "Los objetivos del pair programming de hoy son:\n",
    "\n",
    "1. Sobre las variables predictoras, en este caso deberéis estandarizar estas variables. De nuevo, usad el método que prefiráis.\n"
   ]
  },
  {
   "cell_type": "code",
   "execution_count": 11,
   "metadata": {},
   "outputs": [
    {
     "data": {
      "text/html": [
       "<div>\n",
       "<style scoped>\n",
       "    .dataframe tbody tr th:only-of-type {\n",
       "        vertical-align: middle;\n",
       "    }\n",
       "\n",
       "    .dataframe tbody tr th {\n",
       "        vertical-align: top;\n",
       "    }\n",
       "\n",
       "    .dataframe thead th {\n",
       "        text-align: right;\n",
       "    }\n",
       "</style>\n",
       "<table border=\"1\" class=\"dataframe\">\n",
       "  <thead>\n",
       "    <tr style=\"text-align: right;\">\n",
       "      <th></th>\n",
       "      <th>invoice_id</th>\n",
       "      <th>city</th>\n",
       "      <th>customer_type</th>\n",
       "      <th>gender</th>\n",
       "      <th>product_line</th>\n",
       "      <th>unit_price</th>\n",
       "      <th>quantity</th>\n",
       "      <th>date</th>\n",
       "      <th>time</th>\n",
       "      <th>payment</th>\n",
       "      <th>rating</th>\n",
       "      <th>month</th>\n",
       "      <th>shift</th>\n",
       "      <th>total_boxcox</th>\n",
       "    </tr>\n",
       "  </thead>\n",
       "  <tbody>\n",
       "    <tr>\n",
       "      <th>0</th>\n",
       "      <td>750-67-8428</td>\n",
       "      <td>Yangon</td>\n",
       "      <td>Member</td>\n",
       "      <td>Female</td>\n",
       "      <td>Health and beauty</td>\n",
       "      <td>74.69</td>\n",
       "      <td>7</td>\n",
       "      <td>2019-01-05</td>\n",
       "      <td>13:08</td>\n",
       "      <td>Ewallet</td>\n",
       "      <td>9.1</td>\n",
       "      <td>January</td>\n",
       "      <td>Morning</td>\n",
       "      <td>17.284419</td>\n",
       "    </tr>\n",
       "    <tr>\n",
       "      <th>1</th>\n",
       "      <td>226-31-3081</td>\n",
       "      <td>Naypyitaw</td>\n",
       "      <td>Normal</td>\n",
       "      <td>Female</td>\n",
       "      <td>Electronic accessories</td>\n",
       "      <td>15.28</td>\n",
       "      <td>5</td>\n",
       "      <td>2019-03-08</td>\n",
       "      <td>10:29</td>\n",
       "      <td>Cash</td>\n",
       "      <td>9.6</td>\n",
       "      <td>March</td>\n",
       "      <td>Morning</td>\n",
       "      <td>8.608895</td>\n",
       "    </tr>\n",
       "  </tbody>\n",
       "</table>\n",
       "</div>"
      ],
      "text/plain": [
       "    invoice_id       city customer_type  gender            product_line  \\\n",
       "0  750-67-8428     Yangon        Member  Female       Health and beauty   \n",
       "1  226-31-3081  Naypyitaw        Normal  Female  Electronic accessories   \n",
       "\n",
       "   unit_price quantity       date   time  payment  rating    month    shift  \\\n",
       "0       74.69        7 2019-01-05  13:08  Ewallet     9.1  January  Morning   \n",
       "1       15.28        5 2019-03-08  10:29     Cash     9.6    March  Morning   \n",
       "\n",
       "   total_boxcox  \n",
       "0     17.284419  \n",
       "1      8.608895  "
      ]
     },
     "execution_count": 11,
     "metadata": {},
     "output_type": "execute_result"
    }
   ],
   "source": [
    "df = pd.read_pickle(\"data/supermarket_norm.pkl\")\n",
    "df.head(2)"
   ]
  },
  {
   "cell_type": "code",
   "execution_count": 12,
   "metadata": {},
   "outputs": [
    {
     "data": {
      "text/html": [
       "<div>\n",
       "<style scoped>\n",
       "    .dataframe tbody tr th:only-of-type {\n",
       "        vertical-align: middle;\n",
       "    }\n",
       "\n",
       "    .dataframe tbody tr th {\n",
       "        vertical-align: top;\n",
       "    }\n",
       "\n",
       "    .dataframe thead th {\n",
       "        text-align: right;\n",
       "    }\n",
       "</style>\n",
       "<table border=\"1\" class=\"dataframe\">\n",
       "  <thead>\n",
       "    <tr style=\"text-align: right;\">\n",
       "      <th></th>\n",
       "      <th>unit_price</th>\n",
       "      <th>rating</th>\n",
       "      <th>total_boxcox</th>\n",
       "    </tr>\n",
       "  </thead>\n",
       "  <tbody>\n",
       "    <tr>\n",
       "      <th>0</th>\n",
       "      <td>74.69</td>\n",
       "      <td>9.1</td>\n",
       "      <td>17.284419</td>\n",
       "    </tr>\n",
       "    <tr>\n",
       "      <th>1</th>\n",
       "      <td>15.28</td>\n",
       "      <td>9.6</td>\n",
       "      <td>8.608895</td>\n",
       "    </tr>\n",
       "  </tbody>\n",
       "</table>\n",
       "</div>"
      ],
      "text/plain": [
       "   unit_price  rating  total_boxcox\n",
       "0       74.69     9.1     17.284419\n",
       "1       15.28     9.6      8.608895"
      ]
     },
     "execution_count": 12,
     "metadata": {},
     "output_type": "execute_result"
    }
   ],
   "source": [
    "#Primero hacemos un nuevo dataframe con las variables numéricas\n",
    "\n",
    "df_num = df.select_dtypes(include=['float64', 'int64'])\n",
    "df_num.head(2)"
   ]
  },
  {
   "cell_type": "code",
   "execution_count": 13,
   "metadata": {},
   "outputs": [],
   "source": [
    "#Como en este df aparece nuestra variable respuesta, la eliminamos.\n",
    "df_num = df_num.drop([\"total_boxcox\"], axis = 1)"
   ]
  },
  {
   "cell_type": "code",
   "execution_count": 14,
   "metadata": {},
   "outputs": [],
   "source": [
    "#Usamos el Robust Scaler porque no hemos hecho ningún tratamiento de outliers\n",
    "\n",
    "#Primero construimos el modelo\n",
    "#Con el fit aprende\n",
    "#Con el transform aplica lo aprendido\n",
    "\n",
    "robust = RobustScaler()\n",
    "robust.fit(df_num)\n",
    "num_robust = robust.transform(df_num)\n",
    "\n",
    "#Convertimos el resultado en dataframe\n",
    "\n",
    "df_robust = pd.DataFrame(num_robust, columns = df_num.columns)"
   ]
  },
  {
   "cell_type": "code",
   "execution_count": 15,
   "metadata": {},
   "outputs": [
    {
     "data": {
      "text/html": [
       "<div>\n",
       "<style scoped>\n",
       "    .dataframe tbody tr th:only-of-type {\n",
       "        vertical-align: middle;\n",
       "    }\n",
       "\n",
       "    .dataframe tbody tr th {\n",
       "        vertical-align: top;\n",
       "    }\n",
       "\n",
       "    .dataframe thead th {\n",
       "        text-align: right;\n",
       "    }\n",
       "</style>\n",
       "<table border=\"1\" class=\"dataframe\">\n",
       "  <thead>\n",
       "    <tr style=\"text-align: right;\">\n",
       "      <th></th>\n",
       "      <th>unit_price</th>\n",
       "      <th>rating</th>\n",
       "    </tr>\n",
       "  </thead>\n",
       "  <tbody>\n",
       "    <tr>\n",
       "      <th>0</th>\n",
       "      <td>0.431869</td>\n",
       "      <td>0.700000</td>\n",
       "    </tr>\n",
       "    <tr>\n",
       "      <th>1</th>\n",
       "      <td>-0.886596</td>\n",
       "      <td>0.866667</td>\n",
       "    </tr>\n",
       "  </tbody>\n",
       "</table>\n",
       "</div>"
      ],
      "text/plain": [
       "   unit_price    rating\n",
       "0    0.431869  0.700000\n",
       "1   -0.886596  0.866667"
      ]
     },
     "execution_count": 15,
     "metadata": {},
     "output_type": "execute_result"
    }
   ],
   "source": [
    "df_robust.head(2)"
   ]
  },
  {
   "cell_type": "code",
   "execution_count": 16,
   "metadata": {},
   "outputs": [
    {
     "data": {
      "text/html": [
       "<div>\n",
       "<style scoped>\n",
       "    .dataframe tbody tr th:only-of-type {\n",
       "        vertical-align: middle;\n",
       "    }\n",
       "\n",
       "    .dataframe tbody tr th {\n",
       "        vertical-align: top;\n",
       "    }\n",
       "\n",
       "    .dataframe thead th {\n",
       "        text-align: right;\n",
       "    }\n",
       "</style>\n",
       "<table border=\"1\" class=\"dataframe\">\n",
       "  <thead>\n",
       "    <tr style=\"text-align: right;\">\n",
       "      <th></th>\n",
       "      <th>invoice_id</th>\n",
       "      <th>city</th>\n",
       "      <th>customer_type</th>\n",
       "      <th>gender</th>\n",
       "      <th>product_line</th>\n",
       "      <th>unit_price</th>\n",
       "      <th>quantity</th>\n",
       "      <th>date</th>\n",
       "      <th>time</th>\n",
       "      <th>payment</th>\n",
       "      <th>rating</th>\n",
       "      <th>month</th>\n",
       "      <th>shift</th>\n",
       "      <th>total_boxcox</th>\n",
       "    </tr>\n",
       "  </thead>\n",
       "  <tbody>\n",
       "    <tr>\n",
       "      <th>0</th>\n",
       "      <td>750-67-8428</td>\n",
       "      <td>Yangon</td>\n",
       "      <td>Member</td>\n",
       "      <td>Female</td>\n",
       "      <td>Health and beauty</td>\n",
       "      <td>0.431869</td>\n",
       "      <td>7</td>\n",
       "      <td>2019-01-05</td>\n",
       "      <td>13:08</td>\n",
       "      <td>Ewallet</td>\n",
       "      <td>0.700000</td>\n",
       "      <td>January</td>\n",
       "      <td>Morning</td>\n",
       "      <td>17.284419</td>\n",
       "    </tr>\n",
       "    <tr>\n",
       "      <th>1</th>\n",
       "      <td>226-31-3081</td>\n",
       "      <td>Naypyitaw</td>\n",
       "      <td>Normal</td>\n",
       "      <td>Female</td>\n",
       "      <td>Electronic accessories</td>\n",
       "      <td>-0.886596</td>\n",
       "      <td>5</td>\n",
       "      <td>2019-03-08</td>\n",
       "      <td>10:29</td>\n",
       "      <td>Cash</td>\n",
       "      <td>0.866667</td>\n",
       "      <td>March</td>\n",
       "      <td>Morning</td>\n",
       "      <td>8.608895</td>\n",
       "    </tr>\n",
       "  </tbody>\n",
       "</table>\n",
       "</div>"
      ],
      "text/plain": [
       "    invoice_id       city customer_type  gender            product_line  \\\n",
       "0  750-67-8428     Yangon        Member  Female       Health and beauty   \n",
       "1  226-31-3081  Naypyitaw        Normal  Female  Electronic accessories   \n",
       "\n",
       "   unit_price quantity       date   time  payment    rating    month    shift  \\\n",
       "0    0.431869        7 2019-01-05  13:08  Ewallet  0.700000  January  Morning   \n",
       "1   -0.886596        5 2019-03-08  10:29     Cash  0.866667    March  Morning   \n",
       "\n",
       "   total_boxcox  \n",
       "0     17.284419  \n",
       "1      8.608895  "
      ]
     },
     "execution_count": 16,
     "metadata": {},
     "output_type": "execute_result"
    }
   ],
   "source": [
    "#Unimos este dataframe al dataframe original\n",
    "\n",
    "df[df_num.columns] = df_robust\n",
    "\n",
    "df.head(2)"
   ]
  },
  {
   "cell_type": "markdown",
   "metadata": {},
   "source": [
    "2. Guardar en un csv el nuevo dataframe que habéis creado para seguir usándolo en los siguientes pair programmings"
   ]
  },
  {
   "cell_type": "code",
   "execution_count": 17,
   "metadata": {},
   "outputs": [],
   "source": [
    "df.to_pickle('data/supermarket_estand.pkl')"
   ]
  }
 ],
 "metadata": {
  "kernelspec": {
   "display_name": "base",
   "language": "python",
   "name": "python3"
  },
  "language_info": {
   "codemirror_mode": {
    "name": "ipython",
    "version": 3
   },
   "file_extension": ".py",
   "mimetype": "text/x-python",
   "name": "python",
   "nbconvert_exporter": "python",
   "pygments_lexer": "ipython3",
   "version": "3.9.7"
  },
  "orig_nbformat": 4
 },
 "nbformat": 4,
 "nbformat_minor": 2
}
