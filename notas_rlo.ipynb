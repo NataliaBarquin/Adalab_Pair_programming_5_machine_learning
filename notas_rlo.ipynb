{
 "cells": [
  {
   "cell_type": "markdown",
   "metadata": {},
   "source": [
    "NET SALES: cantidad de dinero que recibe una AGENCIA cuando una persona contrata un servicio\n",
    "\n",
    "COMISION: aseguradora"
   ]
  }
 ],
 "metadata": {
  "language_info": {
   "name": "python"
  },
  "orig_nbformat": 4
 },
 "nbformat": 4,
 "nbformat_minor": 2
}
