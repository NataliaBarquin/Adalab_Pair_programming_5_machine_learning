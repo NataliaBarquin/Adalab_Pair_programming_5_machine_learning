{
 "cells": [
  {
   "cell_type": "markdown",
   "metadata": {},
   "source": [
    "### Estas son las explicaciones de las variables\n",
    "\n",
    "    Branch: Branch of supercenter (3 branches are available identified by A, B and C).\n",
    "\n",
    "    City: Location of supercenters\n",
    "\n",
    "    Customer type: Type of customers, recorded by Members for customers using member card and Normal for without member card.\n",
    "\n",
    "    Gender: Gender type of customer\n",
    "    \n",
    "    Product line: General item categorization groups - Electronic accessories, Fashion accessories, Food and beverages, Health and beauty, Home and lifestyle, Sports and travel\n",
    "\n",
    "    Unit price: Price of each product in $\n",
    "\n",
    "    Quantity: Number of products purchased by customer\n",
    "\n",
    "    Tax: 5% tax fee for customer buying\n",
    "\n",
    "    Total: Total price including tax\n",
    "\n",
    "    Date: Date of purchase (Record available from January 2019 to March 2019)\n",
    "\n",
    "    Time: Purchase time (10am to 9pm)\n",
    "\n",
    "    Payment: Payment used by customer for purchase (3 methods are available – Cash, Credit card and Ewallet)\n",
    "\n",
    "    COGS: Cost of goods sold\n",
    "\n",
    "    Gross margin percentage: Gross margin percentage\n",
    "\n",
    "    Gross income: Gross income\n",
    "\n",
    "    Rating: Customer stratification rating on their overall shopping experience (On a scale of 1 to 10)"
   ]
  },
  {
   "cell_type": "markdown",
   "metadata": {},
   "source": [
    "### Observaciones\n",
    "\n",
    "-Hay que modificar la columna de fecha - de momento no\n",
    "\n",
    "-La variable respuesta será - de momento cuánto va a gastar un cliente 'Total'\n",
    "\n",
    "-Rating es falsa numerica\n",
    "\n",
    "-Eliminar la columna gross margin percentage porque nos da el mismo valor para todos los registros -hecho\n",
    "\n",
    "-Este dataframe es del primer trimestre de 2019\n",
    "\n",
    "-Comprobar si hay falsas numéricas \n",
    "\n",
    "-¿por qué no hay 5 en la columna de quantity?\n",
    "\n",
    "-ELiminamos las columnas dependientes?\n",
    "\n",
    "-Eliminar métodos de normalización que hemos usado y dejar solo el box-cox?\n",
    "\n",
    "-Qué es mejor de cara a realizar el modelo?\n",
    "\n",
    "    Mantener todos los datos de Destination o borrar los paises con menor número de registros?\n",
    "\n",
    "    Agrupar los residuales, como 'otros'?\n",
    "\n",
    "    Agrupar por continentes?\n",
    "\n",
    "-Cómo averiguar orden de las variables categóricas siendo la variable respuesta categórica también"
   ]
  },
  {
   "cell_type": "markdown",
   "metadata": {},
   "source": [
    "**Quantity:**\n",
    "\n",
    "Observamos que en la columna quantity, el máximo es 10. Estos datos podrían indicar por ejemplo una restricción de compra en estos supermercados, o un error en la recogida de los datos. Se podría consultar con el product owner para comprobar si este es el caso o no."
   ]
  },
  {
   "cell_type": "markdown",
   "metadata": {},
   "source": [
    "##### Encoding\n",
    "\n",
    "Columnas con orden:\n",
    "\n",
    "- city\n",
    "\n",
    "- gender\n",
    "\n",
    "- product line\n",
    "\n",
    "- payment\n",
    "\n",
    "- month\n",
    "\n",
    "- shift\n",
    "\n",
    "\n",
    "\n",
    "Columnas sin orden:\n",
    "\n",
    "- member"
   ]
  }
 ],
 "metadata": {
  "language_info": {
   "name": "python"
  },
  "orig_nbformat": 4
 },
 "nbformat": 4,
 "nbformat_minor": 2
}
