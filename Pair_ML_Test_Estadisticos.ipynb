{
 "cells": [
  {
   "cell_type": "markdown",
   "metadata": {},
   "source": [
    "### PAIR 2. TEST ESTADÍSTICOS.\n",
    "\n",
    "\n",
    "----------------"
   ]
  },
  {
   "cell_type": "code",
   "execution_count": 1,
   "metadata": {},
   "outputs": [],
   "source": [
    "import pandas as pd\n",
    "import numpy as np\n",
    "\n",
    "import matplotlib.pyplot as plt\n",
    "import seaborn as sns\n",
    "\n",
    "pd.options.display.max_columns = None"
   ]
  },
  {
   "cell_type": "code",
   "execution_count": 2,
   "metadata": {},
   "outputs": [
    {
     "data": {
      "text/html": [
       "<div>\n",
       "<style scoped>\n",
       "    .dataframe tbody tr th:only-of-type {\n",
       "        vertical-align: middle;\n",
       "    }\n",
       "\n",
       "    .dataframe tbody tr th {\n",
       "        vertical-align: top;\n",
       "    }\n",
       "\n",
       "    .dataframe thead th {\n",
       "        text-align: right;\n",
       "    }\n",
       "</style>\n",
       "<table border=\"1\" class=\"dataframe\">\n",
       "  <thead>\n",
       "    <tr style=\"text-align: right;\">\n",
       "      <th></th>\n",
       "      <th>Invoice ID</th>\n",
       "      <th>Branch</th>\n",
       "      <th>City</th>\n",
       "      <th>Customer type</th>\n",
       "      <th>Gender</th>\n",
       "      <th>Product line</th>\n",
       "      <th>Unit price</th>\n",
       "      <th>Quantity</th>\n",
       "      <th>Tax 5%</th>\n",
       "      <th>Total</th>\n",
       "      <th>Date</th>\n",
       "      <th>Time</th>\n",
       "      <th>Payment</th>\n",
       "      <th>cogs</th>\n",
       "      <th>gross margin percentage</th>\n",
       "      <th>gross income</th>\n",
       "      <th>Rating</th>\n",
       "    </tr>\n",
       "  </thead>\n",
       "  <tbody>\n",
       "    <tr>\n",
       "      <th>591</th>\n",
       "      <td>788-07-8452</td>\n",
       "      <td>C</td>\n",
       "      <td>Naypyitaw</td>\n",
       "      <td>Member</td>\n",
       "      <td>Female</td>\n",
       "      <td>Home and lifestyle</td>\n",
       "      <td>24.24</td>\n",
       "      <td>7</td>\n",
       "      <td>8.4840</td>\n",
       "      <td>178.1640</td>\n",
       "      <td>1/27/2019</td>\n",
       "      <td>17:38</td>\n",
       "      <td>Ewallet</td>\n",
       "      <td>169.68</td>\n",
       "      <td>4.761905</td>\n",
       "      <td>8.4840</td>\n",
       "      <td>9.4</td>\n",
       "    </tr>\n",
       "    <tr>\n",
       "      <th>291</th>\n",
       "      <td>558-80-4082</td>\n",
       "      <td>C</td>\n",
       "      <td>Naypyitaw</td>\n",
       "      <td>Normal</td>\n",
       "      <td>Male</td>\n",
       "      <td>Electronic accessories</td>\n",
       "      <td>27.85</td>\n",
       "      <td>7</td>\n",
       "      <td>9.7475</td>\n",
       "      <td>204.6975</td>\n",
       "      <td>3/14/2019</td>\n",
       "      <td>17:20</td>\n",
       "      <td>Ewallet</td>\n",
       "      <td>194.95</td>\n",
       "      <td>4.761905</td>\n",
       "      <td>9.7475</td>\n",
       "      <td>6.0</td>\n",
       "    </tr>\n",
       "    <tr>\n",
       "      <th>911</th>\n",
       "      <td>151-27-8496</td>\n",
       "      <td>C</td>\n",
       "      <td>Naypyitaw</td>\n",
       "      <td>Normal</td>\n",
       "      <td>Female</td>\n",
       "      <td>Electronic accessories</td>\n",
       "      <td>56.13</td>\n",
       "      <td>4</td>\n",
       "      <td>11.2260</td>\n",
       "      <td>235.7460</td>\n",
       "      <td>1/19/2019</td>\n",
       "      <td>11:43</td>\n",
       "      <td>Ewallet</td>\n",
       "      <td>224.52</td>\n",
       "      <td>4.761905</td>\n",
       "      <td>11.2260</td>\n",
       "      <td>8.6</td>\n",
       "    </tr>\n",
       "    <tr>\n",
       "      <th>922</th>\n",
       "      <td>838-02-1821</td>\n",
       "      <td>C</td>\n",
       "      <td>Naypyitaw</td>\n",
       "      <td>Member</td>\n",
       "      <td>Female</td>\n",
       "      <td>Home and lifestyle</td>\n",
       "      <td>12.73</td>\n",
       "      <td>2</td>\n",
       "      <td>1.2730</td>\n",
       "      <td>26.7330</td>\n",
       "      <td>2/22/2019</td>\n",
       "      <td>12:10</td>\n",
       "      <td>Credit card</td>\n",
       "      <td>25.46</td>\n",
       "      <td>4.761905</td>\n",
       "      <td>1.2730</td>\n",
       "      <td>5.2</td>\n",
       "    </tr>\n",
       "    <tr>\n",
       "      <th>603</th>\n",
       "      <td>642-30-6693</td>\n",
       "      <td>B</td>\n",
       "      <td>Mandalay</td>\n",
       "      <td>Normal</td>\n",
       "      <td>Female</td>\n",
       "      <td>Sports and travel</td>\n",
       "      <td>54.51</td>\n",
       "      <td>6</td>\n",
       "      <td>16.3530</td>\n",
       "      <td>343.4130</td>\n",
       "      <td>3/17/2019</td>\n",
       "      <td>13:54</td>\n",
       "      <td>Ewallet</td>\n",
       "      <td>327.06</td>\n",
       "      <td>4.761905</td>\n",
       "      <td>16.3530</td>\n",
       "      <td>7.8</td>\n",
       "    </tr>\n",
       "  </tbody>\n",
       "</table>\n",
       "</div>"
      ],
      "text/plain": [
       "      Invoice ID Branch       City Customer type  Gender  \\\n",
       "591  788-07-8452      C  Naypyitaw        Member  Female   \n",
       "291  558-80-4082      C  Naypyitaw        Normal    Male   \n",
       "911  151-27-8496      C  Naypyitaw        Normal  Female   \n",
       "922  838-02-1821      C  Naypyitaw        Member  Female   \n",
       "603  642-30-6693      B   Mandalay        Normal  Female   \n",
       "\n",
       "               Product line  Unit price  Quantity   Tax 5%     Total  \\\n",
       "591      Home and lifestyle       24.24         7   8.4840  178.1640   \n",
       "291  Electronic accessories       27.85         7   9.7475  204.6975   \n",
       "911  Electronic accessories       56.13         4  11.2260  235.7460   \n",
       "922      Home and lifestyle       12.73         2   1.2730   26.7330   \n",
       "603       Sports and travel       54.51         6  16.3530  343.4130   \n",
       "\n",
       "          Date   Time      Payment    cogs  gross margin percentage  \\\n",
       "591  1/27/2019  17:38      Ewallet  169.68                 4.761905   \n",
       "291  3/14/2019  17:20      Ewallet  194.95                 4.761905   \n",
       "911  1/19/2019  11:43      Ewallet  224.52                 4.761905   \n",
       "922  2/22/2019  12:10  Credit card   25.46                 4.761905   \n",
       "603  3/17/2019  13:54      Ewallet  327.06                 4.761905   \n",
       "\n",
       "     gross income  Rating  \n",
       "591        8.4840     9.4  \n",
       "291        9.7475     6.0  \n",
       "911       11.2260     8.6  \n",
       "922        1.2730     5.2  \n",
       "603       16.3530     7.8  "
      ]
     },
     "execution_count": 2,
     "metadata": {},
     "output_type": "execute_result"
    }
   ],
   "source": [
    "df = pd.read_csv('data/supermarket_sales - Sheet1.csv')\n",
    "df.sample(5)"
   ]
  },
  {
   "cell_type": "markdown",
   "metadata": {},
   "source": [
    "1. ¿Qué diferencia existe el error de tipo I y el error de tipo II?"
   ]
  },
  {
   "cell_type": "markdown",
   "metadata": {},
   "source": [
    "H0: La variable A NO afecta a la variable B.\n",
    "\n",
    "H1: La variable A afecta a la variable B.\n",
    "\n",
    "- Error tipo 1: Falso positivo.\n",
    "- Error tipo 2: Falso negativo.\n",
    "\n",
    "En nuestro caso:\n",
    "\n",
    "H0: Que el producto sea exclusivo NO afecta al número de love.\n",
    "\n",
    "H1: Que el producto sea exclusivo SÍ afecta al número de love.\n",
    "\n",
    "- Error tipo 1: Falso positivo. \n",
    "- Error tipo 2: Falso negativo. Preferimos este error en este caso (que salga que NO influye aunque SÍ influya), porque si fuera al contrario invertiríamos dinero en una campaña que no es cierta."
   ]
  },
  {
   "cell_type": "markdown",
   "metadata": {},
   "source": [
    "2. ¿Qué es la asimetría?"
   ]
  },
  {
   "cell_type": "markdown",
   "metadata": {},
   "source": [
    "Quiere decir que la media es mayor o menor a la mediana y a la moda."
   ]
  },
  {
   "cell_type": "markdown",
   "metadata": {},
   "source": [
    "3. ¿Es vuestra variable respuesta asimétrica?"
   ]
  },
  {
   "cell_type": "code",
   "execution_count": null,
   "metadata": {},
   "outputs": [],
   "source": []
  },
  {
   "cell_type": "markdown",
   "metadata": {},
   "source": [
    "4. ¿Qué tipo de curtosis presenta vuestra variable respuesta?"
   ]
  },
  {
   "cell_type": "code",
   "execution_count": null,
   "metadata": {},
   "outputs": [],
   "source": []
  },
  {
   "cell_type": "markdown",
   "metadata": {},
   "source": [
    "5. ¿Es vuestra variable respuesta normal? Demostrarlo visual y analíticamente."
   ]
  },
  {
   "cell_type": "code",
   "execution_count": null,
   "metadata": {},
   "outputs": [],
   "source": []
  }
 ],
 "metadata": {
  "kernelspec": {
   "display_name": "adalabenv",
   "language": "python",
   "name": "python3"
  },
  "language_info": {
   "codemirror_mode": {
    "name": "ipython",
    "version": 3
   },
   "file_extension": ".py",
   "mimetype": "text/x-python",
   "name": "python",
   "nbconvert_exporter": "python",
   "pygments_lexer": "ipython3",
   "version": "3.9.7"
  },
  "orig_nbformat": 4
 },
 "nbformat": 4,
 "nbformat_minor": 2
}
